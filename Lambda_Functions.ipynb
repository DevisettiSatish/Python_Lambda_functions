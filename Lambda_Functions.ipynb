{
 "cells": [
  {
   "cell_type": "code",
   "execution_count": null,
   "id": "b0cb1296",
   "metadata": {},
   "outputs": [],
   "source": [
    "#lambda function is known as ananymous function\n",
    "#using the varibale we can use the lambda function"
   ]
  },
  {
   "cell_type": "code",
   "execution_count": 2,
   "id": "23dab269",
   "metadata": {},
   "outputs": [
    {
     "name": "stdout",
     "output_type": "stream",
     "text": [
      "10\n"
     ]
    }
   ],
   "source": [
    "# normal function\n",
    "\n",
    "def fun(a,b):\n",
    "    print(a*b)\n",
    "    \n",
    "fun(5,2)    "
   ]
  },
  {
   "cell_type": "code",
   "execution_count": 3,
   "id": "fb3c007d",
   "metadata": {},
   "outputs": [
    {
     "name": "stdout",
     "output_type": "stream",
     "text": [
      "10\n"
     ]
    }
   ],
   "source": [
    "# lambda function\n",
    "\n",
    "c=lambda x,y:x*y\n",
    "print(c(5,2))"
   ]
  },
  {
   "cell_type": "code",
   "execution_count": 5,
   "id": "38fe726a",
   "metadata": {},
   "outputs": [
    {
     "name": "stdout",
     "output_type": "stream",
     "text": [
      "30\n"
     ]
    }
   ],
   "source": [
    "x=lambda a,b:a+b\n",
    "print(x(10,20))"
   ]
  },
  {
   "cell_type": "code",
   "execution_count": 7,
   "id": "92c2341f",
   "metadata": {},
   "outputs": [
    {
     "name": "stdout",
     "output_type": "stream",
     "text": [
      "3 * 1 = 3\n",
      "3 * 2 = 6\n",
      "3 * 3 = 9\n",
      "3 * 4 = 12\n",
      "3 * 5 = 15\n",
      "3 * 6 = 18\n",
      "3 * 7 = 21\n",
      "3 * 8 = 24\n",
      "3 * 9 = 27\n",
      "3 * 10 = 30\n"
     ]
    }
   ],
   "source": [
    "# print 3 table\n",
    "a=3\n",
    "for i in range(1,11):\n",
    "        print(a,'*',i,'=',a*i)"
   ]
  },
  {
   "cell_type": "code",
   "execution_count": 9,
   "id": "cd46ce65",
   "metadata": {},
   "outputs": [
    {
     "name": "stdout",
     "output_type": "stream",
     "text": [
      "10 * 1 = 10\n",
      "10 * 2 = 20\n",
      "10 * 3 = 30\n",
      "10 * 4 = 40\n",
      "10 * 5 = 50\n",
      "10 * 6 = 60\n",
      "10 * 7 = 70\n",
      "10 * 8 = 80\n",
      "10 * 9 = 90\n",
      "10 * 10 = 100\n"
     ]
    }
   ],
   "source": [
    "# print 10 table\n",
    "\n",
    "\n",
    "a=10\n",
    "for i in range(1,11):\n",
    "    print(a,'*',i,'=',a*i)"
   ]
  },
  {
   "cell_type": "code",
   "execution_count": 12,
   "id": "bddd22d3",
   "metadata": {},
   "outputs": [
    {
     "name": "stdout",
     "output_type": "stream",
     "text": [
      "5 * 1 = 5\n",
      "5 * 2 = 10\n",
      "5 * 3 = 15\n",
      "5 * 4 = 20\n",
      "5 * 5 = 25\n",
      "5 * 6 = 30\n",
      "5 * 7 = 35\n",
      "5 * 8 = 40\n",
      "5 * 9 = 45\n",
      "5 * 10 = 50\n"
     ]
    }
   ],
   "source": [
    "# lambda function print 5 table\n",
    "\n",
    "x=5\n",
    "c=lambda x,y:x*y\n",
    "for i in range(1,11):\n",
    "    print(x,'*',i,'=',c(x,i))"
   ]
  },
  {
   "cell_type": "code",
   "execution_count": 13,
   "id": "8f8db42e",
   "metadata": {},
   "outputs": [
    {
     "name": "stdout",
     "output_type": "stream",
     "text": [
      "15 * 1 = 15\n",
      "15 * 2 = 30\n",
      "15 * 3 = 45\n",
      "15 * 4 = 60\n",
      "15 * 5 = 75\n",
      "15 * 6 = 90\n",
      "15 * 7 = 105\n",
      "15 * 8 = 120\n",
      "15 * 9 = 135\n",
      "15 * 10 = 150\n"
     ]
    }
   ],
   "source": [
    "x=15\n",
    "\n",
    "c=lambda a,b:a*b\n",
    "for i in range(1,11):\n",
    "    print(x,'*',i,'=',c(x,i))"
   ]
  },
  {
   "cell_type": "code",
   "execution_count": 15,
   "id": "e15e14ee",
   "metadata": {},
   "outputs": [
    {
     "name": "stdout",
     "output_type": "stream",
     "text": [
      "2 even number\n",
      "4 even number\n",
      "6 even number\n",
      "8 even number\n"
     ]
    }
   ],
   "source": [
    "def  fun(a,b):\n",
    "    for i in range(a,b):\n",
    "        if i%2==0:\n",
    "            print(i,'even number')\n",
    "fun(1,10)            "
   ]
  },
  {
   "cell_type": "code",
   "execution_count": 16,
   "id": "35334e01",
   "metadata": {},
   "outputs": [
    {
     "name": "stdout",
     "output_type": "stream",
     "text": [
      "1 odd numbers\n",
      "3 odd numbers\n",
      "5 odd numbers\n",
      "7 odd numbers\n",
      "9 odd numbers\n"
     ]
    }
   ],
   "source": [
    "def odd(x,y):\n",
    "    for i in range(x,y):\n",
    "        if i%2!=0:\n",
    "            print(i,'odd numbers')\n",
    "odd(1,10)            "
   ]
  },
  {
   "cell_type": "code",
   "execution_count": 17,
   "id": "8ccb1375",
   "metadata": {},
   "outputs": [
    {
     "name": "stdout",
     "output_type": "stream",
     "text": [
      "odd 11\n",
      "even 12\n",
      "odd 13\n",
      "even 14\n",
      "odd 15\n",
      "even 16\n",
      "odd 17\n",
      "even 18\n",
      "odd 19\n",
      "even 20\n"
     ]
    }
   ],
   "source": [
    "c = lambda x : x % 2 == 0\n",
    "\n",
    "\n",
    "for i in range(11,21):\n",
    "  if c(i) == True:\n",
    "    print('even',i)\n",
    "  else:\n",
    "    print('odd',i)"
   ]
  },
  {
   "cell_type": "code",
   "execution_count": 18,
   "id": "a5c53e81",
   "metadata": {},
   "outputs": [
    {
     "name": "stdout",
     "output_type": "stream",
     "text": [
      "200\n"
     ]
    }
   ],
   "source": [
    "c=lambda p,q:p*q\n",
    "print(c(100,2))"
   ]
  },
  {
   "cell_type": "code",
   "execution_count": 25,
   "id": "ecf631ca",
   "metadata": {},
   "outputs": [
    {
     "name": "stdout",
     "output_type": "stream",
     "text": [
      "12 * 1 = 12\n",
      "12 * 2 = 24\n",
      "12 * 3 = 36\n",
      "12 * 4 = 48\n",
      "12 * 5 = 60\n",
      "12 * 6 = 72\n",
      "12 * 7 = 84\n",
      "12 * 8 = 96\n",
      "12 * 9 = 108\n",
      "12 * 10 = 120\n"
     ]
    }
   ],
   "source": [
    "h=12\n",
    "\n",
    "c=lambda a,b:a*b\n",
    "for i in range(1,11):\n",
    "    print(h,'*',i,'=',c(h,i))"
   ]
  },
  {
   "cell_type": "code",
   "execution_count": 2,
   "id": "488eddab",
   "metadata": {},
   "outputs": [
    {
     "name": "stdout",
     "output_type": "stream",
     "text": [
      "70\n"
     ]
    }
   ],
   "source": [
    "C=lambda x,y:x+y\n",
    "print(C(25,45))"
   ]
  },
  {
   "cell_type": "code",
   "execution_count": 4,
   "id": "07f32d19",
   "metadata": {},
   "outputs": [
    {
     "name": "stdout",
     "output_type": "stream",
     "text": [
      "50\n"
     ]
    }
   ],
   "source": [
    "Total=lambda x,y:x*y\n",
    "print(Total(10,5))"
   ]
  },
  {
   "cell_type": "code",
   "execution_count": 5,
   "id": "d808de56",
   "metadata": {},
   "outputs": [
    {
     "name": "stdout",
     "output_type": "stream",
     "text": [
      "7 * 1 = 7\n",
      "7 * 2 = 14\n",
      "7 * 3 = 21\n",
      "7 * 4 = 28\n",
      "7 * 5 = 35\n",
      "7 * 6 = 42\n",
      "7 * 7 = 49\n",
      "7 * 8 = 56\n",
      "7 * 9 = 63\n",
      "7 * 10 = 70\n"
     ]
    }
   ],
   "source": [
    "# print 7 table\n",
    "a=7\n",
    "c= lambda p,q:p*q\n",
    "for i in range(1,11):\n",
    "    print(a,'*',i,'=',c(a,i))"
   ]
  },
  {
   "cell_type": "code",
   "execution_count": 8,
   "id": "207f1eef",
   "metadata": {},
   "outputs": [
    {
     "name": "stdout",
     "output_type": "stream",
     "text": [
      "1 odd\n",
      "2 even\n",
      "3 odd\n",
      "4 even\n",
      "5 odd\n",
      "6 even\n",
      "7 odd\n",
      "8 even\n",
      "9 odd\n",
      "10 even\n"
     ]
    }
   ],
   "source": [
    "c=lambda x:x%2==0\n",
    "for i in range(1,11):\n",
    "    if c(i)== True:\n",
    "        print(i,'even')\n",
    "    else:\n",
    "        print(i,'odd')"
   ]
  },
  {
   "cell_type": "code",
   "execution_count": 9,
   "id": "503859d1",
   "metadata": {},
   "outputs": [
    {
     "name": "stdout",
     "output_type": "stream",
     "text": [
      "20 even number\n",
      "21 odd number\n",
      "22 even number\n",
      "23 odd number\n",
      "24 even number\n",
      "25 odd number\n",
      "26 even number\n",
      "27 odd number\n",
      "28 even number\n",
      "29 odd number\n",
      "30 even number\n",
      "31 odd number\n",
      "32 even number\n",
      "33 odd number\n",
      "34 even number\n",
      "35 odd number\n",
      "36 even number\n",
      "37 odd number\n",
      "38 even number\n",
      "39 odd number\n"
     ]
    }
   ],
   "source": [
    "a=lambda y:y%2==0\n",
    "for i in range(20,40):\n",
    "    if c(i)== True:\n",
    "        print(i,'even number')\n",
    "    else:\n",
    "        print(i,'odd number')"
   ]
  },
  {
   "cell_type": "code",
   "execution_count": 13,
   "id": "f44dddee",
   "metadata": {},
   "outputs": [
    {
     "name": "stdout",
     "output_type": "stream",
     "text": [
      "9 * 1 = 9\n",
      "9 * 2 = 18\n",
      "9 * 3 = 27\n",
      "9 * 4 = 36\n",
      "9 * 5 = 45\n",
      "9 * 6 = 54\n",
      "9 * 7 = 63\n",
      "9 * 8 = 72\n",
      "9 * 9 = 81\n",
      "9 * 10 = 90\n"
     ]
    }
   ],
   "source": [
    "# print 9 table\n",
    "s=9\n",
    "c=lambda x,y:x*y\n",
    "for i in range(1,11):\n",
    "    print(s,'*',i,'=',c(s,i))"
   ]
  },
  {
   "cell_type": "code",
   "execution_count": 14,
   "id": "ef6bc9b8",
   "metadata": {},
   "outputs": [
    {
     "name": "stdout",
     "output_type": "stream",
     "text": [
      "2 even numbers\n",
      "4 even numbers\n",
      "6 even numbers\n",
      "8 even numbers\n",
      "10 even numbers\n",
      "12 even numbers\n",
      "14 even numbers\n",
      "16 even numbers\n",
      "18 even numbers\n",
      "20 even numbers\n",
      "22 even numbers\n",
      "24 even numbers\n",
      "26 even numbers\n",
      "28 even numbers\n",
      "30 even numbers\n",
      "32 even numbers\n",
      "34 even numbers\n",
      "36 even numbers\n",
      "38 even numbers\n",
      "40 even numbers\n",
      "42 even numbers\n",
      "44 even numbers\n",
      "46 even numbers\n",
      "48 even numbers\n"
     ]
    }
   ],
   "source": [
    "c=lambda x:x%2==0\n",
    "for i in range(1,50):\n",
    "    if i%2==0:\n",
    "        print(i,'even numbers')"
   ]
  },
  {
   "cell_type": "code",
   "execution_count": 16,
   "id": "37809fd1",
   "metadata": {},
   "outputs": [
    {
     "name": "stdout",
     "output_type": "stream",
     "text": [
      "1 odd numbers\n",
      "3 odd numbers\n",
      "5 odd numbers\n",
      "7 odd numbers\n",
      "9 odd numbers\n",
      "11 odd numbers\n",
      "13 odd numbers\n",
      "15 odd numbers\n",
      "17 odd numbers\n",
      "19 odd numbers\n",
      "21 odd numbers\n",
      "23 odd numbers\n",
      "25 odd numbers\n",
      "27 odd numbers\n",
      "29 odd numbers\n",
      "31 odd numbers\n",
      "33 odd numbers\n",
      "35 odd numbers\n",
      "37 odd numbers\n",
      "39 odd numbers\n",
      "41 odd numbers\n",
      "43 odd numbers\n",
      "45 odd numbers\n",
      "47 odd numbers\n",
      "49 odd numbers\n"
     ]
    }
   ],
   "source": [
    "c=lambda x:x%2==0\n",
    "for i in range(1,50):\n",
    "    if i%2!=0:\n",
    "        print(i,'odd numbers')"
   ]
  },
  {
   "cell_type": "code",
   "execution_count": 17,
   "id": "f9829237",
   "metadata": {},
   "outputs": [
    {
     "name": "stdout",
     "output_type": "stream",
     "text": [
      "[False, True, False, True, False, True, False, True, False, True]\n"
     ]
    }
   ],
   "source": [
    "# map Function\n",
    "a=map(lambda x:x%2==0,[1,2,3,4,5,6,7,8,9,10])\n",
    "print(list(a))"
   ]
  },
  {
   "cell_type": "code",
   "execution_count": 18,
   "id": "5d98ac9c",
   "metadata": {},
   "outputs": [
    {
     "name": "stdout",
     "output_type": "stream",
     "text": [
      "[True, True, True, True, True, True, True]\n"
     ]
    }
   ],
   "source": [
    "b=map(lambda x:x%2==0,[20,24,26,30,44,56,78])\n",
    "print(list(b))"
   ]
  },
  {
   "cell_type": "code",
   "execution_count": 19,
   "id": "712ad0e4",
   "metadata": {},
   "outputs": [
    {
     "name": "stdout",
     "output_type": "stream",
     "text": [
      "[2, 4, 6, 8, 10]\n"
     ]
    }
   ],
   "source": [
    "# filter function\n",
    "\n",
    "a=filter(lambda x:x%2==0,[1,2,3,4,5,6,7,8,9,10])\n",
    "print(list(a))"
   ]
  },
  {
   "cell_type": "code",
   "execution_count": 20,
   "id": "eb2e8e8b",
   "metadata": {},
   "outputs": [
    {
     "name": "stdout",
     "output_type": "stream",
     "text": [
      "[22, 100, 42, 24]\n"
     ]
    }
   ],
   "source": [
    "# even numbers in filter\n",
    "\n",
    "x=filter(lambda x:x%2==0,[22,45,7,89,100,42,24])\n",
    "print(list(x))"
   ]
  },
  {
   "cell_type": "code",
   "execution_count": 22,
   "id": "13832a79",
   "metadata": {},
   "outputs": [
    {
     "name": "stdout",
     "output_type": "stream",
     "text": [
      "[45, 7, 89]\n"
     ]
    }
   ],
   "source": [
    "# odd numbers filter functions\n",
    "\n",
    "x=filter(lambda x:x%2!=0,[22,45,7,89,100,42,24])\n",
    "print(list(x))"
   ]
  },
  {
   "cell_type": "code",
   "execution_count": 24,
   "id": "bef79413",
   "metadata": {},
   "outputs": [],
   "source": [
    "from functools import reduce"
   ]
  },
  {
   "cell_type": "code",
   "execution_count": 25,
   "id": "6abc8560",
   "metadata": {},
   "outputs": [
    {
     "data": {
      "text/plain": [
       "50"
      ]
     },
     "execution_count": 25,
     "metadata": {},
     "output_type": "execute_result"
    }
   ],
   "source": [
    "# reuce functions\n",
    "reduce(lambda x , y : x + y , [11,12,13,14])"
   ]
  },
  {
   "cell_type": "code",
   "execution_count": 26,
   "id": "888a2497",
   "metadata": {},
   "outputs": [
    {
     "name": "stdout",
     "output_type": "stream",
     "text": [
      "[12, 24, 14, 16, 18, 20]\n"
     ]
    }
   ],
   "source": [
    "# Filter with Map\n",
    "\n",
    "a=filter(lambda x:x%2==0,map(lambda x:x+2,[10,22,12,14,16,17,18]))\n",
    "print(list(a))"
   ]
  },
  {
   "cell_type": "code",
   "execution_count": 27,
   "id": "007ba615",
   "metadata": {},
   "outputs": [
    {
     "name": "stdout",
     "output_type": "stream",
     "text": [
      "[4, 6, 8, 10, 12]\n"
     ]
    }
   ],
   "source": [
    "# map with filter\n",
    "\n",
    "a=map(lambda x:x+2,filter(lambda x:x%2==0,[1,2,3,4,5,6,7,8,9,10]))\n",
    "print(list(a))"
   ]
  },
  {
   "cell_type": "code",
   "execution_count": 28,
   "id": "55bd4a11",
   "metadata": {},
   "outputs": [
    {
     "name": "stdout",
     "output_type": "stream",
     "text": [
      "96\n"
     ]
    }
   ],
   "source": [
    "# reduce with map and filter:\n",
    "\n",
    "sol = reduce(lambda x , y : x + y , map(lambda x : x + 20 , filter(lambda x : x%2==0 , [10,11,12,13,14,15])))\n",
    "print(sol)"
   ]
  },
  {
   "cell_type": "code",
   "execution_count": null,
   "id": "5d6af541",
   "metadata": {},
   "outputs": [],
   "source": []
  }
 ],
 "metadata": {
  "kernelspec": {
   "display_name": "Python 3 (ipykernel)",
   "language": "python",
   "name": "python3"
  },
  "language_info": {
   "codemirror_mode": {
    "name": "ipython",
    "version": 3
   },
   "file_extension": ".py",
   "mimetype": "text/x-python",
   "name": "python",
   "nbconvert_exporter": "python",
   "pygments_lexer": "ipython3",
   "version": "3.11.5"
  }
 },
 "nbformat": 4,
 "nbformat_minor": 5
}
